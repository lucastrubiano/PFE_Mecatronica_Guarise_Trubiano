{
 "cells": [
  {
   "cell_type": "code",
   "execution_count": 1,
   "metadata": {},
   "outputs": [
    {
     "name": "stderr",
     "output_type": "stream",
     "text": [
      "2023-09-17 15:26:18.754677: I tensorflow/core/platform/cpu_feature_guard.cc:182] This TensorFlow binary is optimized to use available CPU instructions in performance-critical operations.\n",
      "To enable the following instructions: AVX2 FMA, in other operations, rebuild TensorFlow with the appropriate compiler flags.\n"
     ]
    }
   ],
   "source": [
    "import tensorflow as tf\n",
    "from tensorflow import keras\n",
    "from sklearn.model_selection import train_test_split\n",
    "import numpy as np\n",
    "import pandas as pd\n",
    "import matplotlib.pyplot as plt\n",
    "\n",
    "# I want to load a csv placed in ../logs/log_ear_mar.csv\n",
    "# with this header timestamp;path_img;ear;mar\n",
    "\n",
    "# And load into a dataframe using pandas\n"
   ]
  },
  {
   "cell_type": "code",
   "execution_count": 2,
   "metadata": {},
   "outputs": [],
   "source": [
    "file_path = \"../logs/log_all.csv\"\n",
    "\n",
    "df = pd.read_csv(file_path, sep=\";\")"
   ]
  },
  {
   "cell_type": "code",
   "execution_count": 3,
   "metadata": {},
   "outputs": [],
   "source": [
    "df.rename(columns={df.columns[0]: \"timestamp\", df.columns[1]: \"path_img\",df.columns[2]: \"ear\", df.columns[3]: \"mar\", df.columns[4]: \"landmarks\"}, inplace=True)"
   ]
  },
  {
   "cell_type": "code",
   "execution_count": 4,
   "metadata": {},
   "outputs": [],
   "source": [
    "df['category'] = df['path_img'].apply(lambda x: x.split('/')[2])\n",
    "df\n",
    "\n",
    "# cast ear and mar to float\n",
    "df['ear'] = df['ear'].astype(float)\n",
    "df['mar'] = df['mar'].astype(float)"
   ]
  },
  {
   "cell_type": "code",
   "execution_count": 40,
   "metadata": {},
   "outputs": [],
   "source": [
    "num_landmarks = 2\n",
    "X_train, X_temp, y_train, y_temp = train_test_split(df[[\"ear\",\"mar\"]], df[\"category\"], test_size=0.3, random_state=42)\n",
    "X_val, X_test, y_val, y_test = train_test_split(X_temp, y_temp, test_size=0.5, random_state=42)"
   ]
  },
  {
   "cell_type": "code",
   "execution_count": 27,
   "metadata": {},
   "outputs": [],
   "source": [
    "# Define the neural network model\n",
    "model = keras.Sequential([\n",
    "    keras.layers.Input(shape=(num_landmarks,), name='input_layer'),  # Adjust num_landmarks to match your data\n",
    "    keras.layers.Dense(64, activation='relu'),\n",
    "    keras.layers.Dense(32, activation='relu'),\n",
    "    keras.layers.Dense(1, activation='sigmoid')\n",
    "])"
   ]
  },
  {
   "cell_type": "code",
   "execution_count": 28,
   "metadata": {},
   "outputs": [],
   "source": [
    "# Compile the model\n",
    "model.compile(optimizer='adam',\n",
    "              loss='binary_crossentropy',\n",
    "              metrics=['accuracy'])"
   ]
  },
  {
   "cell_type": "code",
   "execution_count": 41,
   "metadata": {},
   "outputs": [],
   "source": [
    "y_train=y_train.apply(lambda x : 1 if x == \"fatiga\" else 0)\n",
    "y_val = y_val.apply(lambda x : 1 if x == \"fatiga\" else 0)\n",
    "y_test = y_test.apply(lambda x : 1 if x == \"fatiga\" else 0)\n",
    "X_train = np.array(X_train)\n",
    "X_val = np.array(X_val)\n",
    "X_test = np.array(X_test)"
   ]
  },
  {
   "cell_type": "code",
   "execution_count": 33,
   "metadata": {},
   "outputs": [
    {
     "name": "stdout",
     "output_type": "stream",
     "text": [
      "Epoch 1/20\n",
      "9/9 [==============================] - 0s 8ms/step - loss: 0.4834 - accuracy: 0.7376 - val_loss: 0.4758 - val_accuracy: 0.8000\n",
      "Epoch 2/20\n",
      "9/9 [==============================] - 0s 5ms/step - loss: 0.4798 - accuracy: 0.7447 - val_loss: 0.4738 - val_accuracy: 0.8000\n",
      "Epoch 3/20\n",
      "9/9 [==============================] - 0s 5ms/step - loss: 0.4774 - accuracy: 0.7411 - val_loss: 0.4754 - val_accuracy: 0.7833\n",
      "Epoch 4/20\n",
      "9/9 [==============================] - 0s 5ms/step - loss: 0.4757 - accuracy: 0.7376 - val_loss: 0.4774 - val_accuracy: 0.7833\n",
      "Epoch 5/20\n",
      "9/9 [==============================] - 0s 5ms/step - loss: 0.4717 - accuracy: 0.7447 - val_loss: 0.4758 - val_accuracy: 0.7833\n",
      "Epoch 6/20\n",
      "9/9 [==============================] - 0s 5ms/step - loss: 0.4685 - accuracy: 0.7482 - val_loss: 0.4709 - val_accuracy: 0.8167\n",
      "Epoch 7/20\n",
      "9/9 [==============================] - 0s 5ms/step - loss: 0.4662 - accuracy: 0.7482 - val_loss: 0.4725 - val_accuracy: 0.8167\n",
      "Epoch 8/20\n",
      "9/9 [==============================] - 0s 5ms/step - loss: 0.4641 - accuracy: 0.7589 - val_loss: 0.4707 - val_accuracy: 0.8333\n",
      "Epoch 9/20\n",
      "9/9 [==============================] - 0s 4ms/step - loss: 0.4629 - accuracy: 0.7624 - val_loss: 0.4758 - val_accuracy: 0.8000\n",
      "Epoch 10/20\n",
      "9/9 [==============================] - 0s 5ms/step - loss: 0.4588 - accuracy: 0.7660 - val_loss: 0.4700 - val_accuracy: 0.8333\n",
      "Epoch 11/20\n",
      "9/9 [==============================] - 0s 4ms/step - loss: 0.4558 - accuracy: 0.7908 - val_loss: 0.4715 - val_accuracy: 0.8000\n",
      "Epoch 12/20\n",
      "9/9 [==============================] - 0s 4ms/step - loss: 0.4526 - accuracy: 0.7837 - val_loss: 0.4694 - val_accuracy: 0.8000\n",
      "Epoch 13/20\n",
      "9/9 [==============================] - 0s 5ms/step - loss: 0.4504 - accuracy: 0.8014 - val_loss: 0.4677 - val_accuracy: 0.8333\n",
      "Epoch 14/20\n",
      "9/9 [==============================] - 0s 4ms/step - loss: 0.4489 - accuracy: 0.8050 - val_loss: 0.4706 - val_accuracy: 0.8333\n",
      "Epoch 15/20\n",
      "9/9 [==============================] - 0s 5ms/step - loss: 0.4467 - accuracy: 0.8014 - val_loss: 0.4728 - val_accuracy: 0.8167\n",
      "Epoch 16/20\n",
      "9/9 [==============================] - 0s 5ms/step - loss: 0.4436 - accuracy: 0.7943 - val_loss: 0.4666 - val_accuracy: 0.8000\n",
      "Epoch 17/20\n",
      "9/9 [==============================] - 0s 5ms/step - loss: 0.4412 - accuracy: 0.7943 - val_loss: 0.4693 - val_accuracy: 0.8167\n",
      "Epoch 18/20\n",
      "9/9 [==============================] - 0s 4ms/step - loss: 0.4392 - accuracy: 0.7979 - val_loss: 0.4719 - val_accuracy: 0.8167\n",
      "Epoch 19/20\n",
      "9/9 [==============================] - 0s 5ms/step - loss: 0.4363 - accuracy: 0.8050 - val_loss: 0.4673 - val_accuracy: 0.8000\n",
      "Epoch 20/20\n",
      "9/9 [==============================] - 0s 6ms/step - loss: 0.4349 - accuracy: 0.8085 - val_loss: 0.4692 - val_accuracy: 0.8000\n"
     ]
    }
   ],
   "source": [
    "# Train the model\n",
    "history = model.fit(X_train, y_train,\n",
    "                    epochs=20,\n",
    "                    batch_size=32,\n",
    "                    validation_data=(X_val,y_val))"
   ]
  },
  {
   "cell_type": "code",
   "execution_count": 46,
   "metadata": {},
   "outputs": [
    {
     "data": {
      "text/plain": [
       "array([0.2600315 , 0.70637419])"
      ]
     },
     "execution_count": 46,
     "metadata": {},
     "output_type": "execute_result"
    }
   ],
   "source": [
    "X_test[0]"
   ]
  },
  {
   "cell_type": "code",
   "execution_count": 42,
   "metadata": {},
   "outputs": [
    {
     "name": "stdout",
     "output_type": "stream",
     "text": [
      "2/2 [==============================] - 0s 4ms/step - loss: 0.3941 - accuracy: 0.8689\n",
      "Test accuracy: 86.89%\n"
     ]
    },
    {
     "name": "stderr",
     "output_type": "stream",
     "text": [
      "/Users/rguarise/.pyenv/versions/3.11.0/envs/PFE/lib/python3.11/site-packages/keras/src/engine/training.py:3000: UserWarning: You are saving your model as an HDF5 file via `model.save()`. This file format is considered legacy. We recommend using instead the native Keras format, e.g. `model.save('my_model.keras')`.\n",
      "  saving_api.save_model(\n"
     ]
    }
   ],
   "source": [
    "\n",
    "\n",
    "# Evaluate the model on the test set\n",
    "test_loss, test_accuracy = model.evaluate(X_test, y_test)\n",
    "print(f\"Test accuracy: {test_accuracy * 100:.2f}%\")\n",
    "\n",
    "# Save the model for future use\n",
    "model.save('fatigue_detection_model.h5')\n"
   ]
  },
  {
   "cell_type": "code",
   "execution_count": 53,
   "metadata": {},
   "outputs": [
    {
     "name": "stdout",
     "output_type": "stream",
     "text": [
      "1/1 [==============================] - 0s 52ms/step\n"
     ]
    },
    {
     "data": {
      "text/plain": [
       "array([[0.944017]], dtype=float32)"
      ]
     },
     "execution_count": 53,
     "metadata": {},
     "output_type": "execute_result"
    }
   ],
   "source": [
    "from tensorflow.keras.models import load_model\n",
    "\n",
    "# Load the model\n",
    "model = load_model('../models/fatigue_detection_model.h5')\n"
   ]
  },
  {
   "cell_type": "code",
   "execution_count": 55,
   "metadata": {},
   "outputs": [
    {
     "name": "stdout",
     "output_type": "stream",
     "text": [
      "1/1 [==============================] - 0s 28ms/step\n"
     ]
    },
    {
     "data": {
      "text/plain": [
       "array([[0.13814627]], dtype=float32)"
      ]
     },
     "execution_count": 55,
     "metadata": {},
     "output_type": "execute_result"
    }
   ],
   "source": [
    "model.predict(X_test[1].reshape(1,2))"
   ]
  },
  {
   "cell_type": "code",
   "execution_count": null,
   "metadata": {},
   "outputs": [],
   "source": []
  }
 ],
 "metadata": {
  "kernelspec": {
   "display_name": "PFE",
   "language": "python",
   "name": "python3"
  },
  "language_info": {
   "codemirror_mode": {
    "name": "ipython",
    "version": 3
   },
   "file_extension": ".py",
   "mimetype": "text/x-python",
   "name": "python",
   "nbconvert_exporter": "python",
   "pygments_lexer": "ipython3",
   "version": "3.11.0"
  },
  "orig_nbformat": 4
 },
 "nbformat": 4,
 "nbformat_minor": 2
}
