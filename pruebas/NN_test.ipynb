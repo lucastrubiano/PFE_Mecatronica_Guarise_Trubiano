{
 "cells": [
  {
   "cell_type": "code",
   "execution_count": 2,
   "metadata": {},
   "outputs": [
    {
     "name": "stderr",
     "output_type": "stream",
     "text": [
      "2023-09-13 22:05:31.178567: I tensorflow/core/platform/cpu_feature_guard.cc:182] This TensorFlow binary is optimized to use available CPU instructions in performance-critical operations.\n",
      "To enable the following instructions: AVX2 FMA, in other operations, rebuild TensorFlow with the appropriate compiler flags.\n"
     ]
    }
   ],
   "source": [
    "import tensorflow as tf\n",
    "from tensorflow import keras\n",
    "from sklearn.model_selection import train_test_split\n",
    "import numpy as np\n"
   ]
  },
  {
   "cell_type": "code",
   "execution_count": 17,
   "metadata": {},
   "outputs": [],
   "source": [
    "import pandas as pd\n",
    "import matplotlib.pyplot as plt\n",
    "\n",
    "# I want to load a csv placed in ../logs/log_ear_mar.csv\n",
    "# with this header timestamp;path_img;ear;mar\n",
    "\n",
    "# And load into a dataframe using pandas\n",
    "\n",
    "file_path = \"../logs/log_all.csv\"\n",
    "\n",
    "df = pd.read_csv(file_path, sep=\";\")"
   ]
  },
  {
   "cell_type": "code",
   "execution_count": 18,
   "metadata": {},
   "outputs": [
    {
     "data": {
      "text/html": [
       "<div>\n",
       "<style scoped>\n",
       "    .dataframe tbody tr th:only-of-type {\n",
       "        vertical-align: middle;\n",
       "    }\n",
       "\n",
       "    .dataframe tbody tr th {\n",
       "        vertical-align: top;\n",
       "    }\n",
       "\n",
       "    .dataframe thead th {\n",
       "        text-align: right;\n",
       "    }\n",
       "</style>\n",
       "<table border=\"1\" class=\"dataframe\">\n",
       "  <thead>\n",
       "    <tr style=\"text-align: right;\">\n",
       "      <th></th>\n",
       "      <th>20230913215706065744</th>\n",
       "      <th>./frames/fatiga/frame_20230913215706065744.jpg</th>\n",
       "      <th>0</th>\n",
       "      <th>0.1</th>\n",
       "      <th>[]</th>\n",
       "    </tr>\n",
       "  </thead>\n",
       "  <tbody>\n",
       "    <tr>\n",
       "      <th>0</th>\n",
       "      <td>20230913215706306115</td>\n",
       "      <td>./frames/fatiga/frame_20230913215706306115.jpg</td>\n",
       "      <td>0.199979</td>\n",
       "      <td>0.172840</td>\n",
       "      <td>[array([523, 420]), array([525, 446]), array([...</td>\n",
       "    </tr>\n",
       "    <tr>\n",
       "      <th>1</th>\n",
       "      <td>20230913215706436138</td>\n",
       "      <td>./frames/fatiga/frame_20230913215706436138.jpg</td>\n",
       "      <td>0.202157</td>\n",
       "      <td>0.205173</td>\n",
       "      <td>[array([521, 413]), array([523, 438]), array([...</td>\n",
       "    </tr>\n",
       "    <tr>\n",
       "      <th>2</th>\n",
       "      <td>20230913215706570371</td>\n",
       "      <td>./frames/fatiga/frame_20230913215706570371.jpg</td>\n",
       "      <td>0.209099</td>\n",
       "      <td>0.199986</td>\n",
       "      <td>[array([519, 414]), array([521, 440]), array([...</td>\n",
       "    </tr>\n",
       "    <tr>\n",
       "      <th>3</th>\n",
       "      <td>20230913215706710969</td>\n",
       "      <td>./frames/fatiga/frame_20230913215706710969.jpg</td>\n",
       "      <td>0.193166</td>\n",
       "      <td>0.174407</td>\n",
       "      <td>[array([517, 415]), array([520, 442]), array([...</td>\n",
       "    </tr>\n",
       "    <tr>\n",
       "      <th>4</th>\n",
       "      <td>20230913215706868039</td>\n",
       "      <td>./frames/fatiga/frame_20230913215706868039.jpg</td>\n",
       "      <td>0.223245</td>\n",
       "      <td>0.222205</td>\n",
       "      <td>[array([520, 407]), array([523, 434]), array([...</td>\n",
       "    </tr>\n",
       "    <tr>\n",
       "      <th>...</th>\n",
       "      <td>...</td>\n",
       "      <td>...</td>\n",
       "      <td>...</td>\n",
       "      <td>...</td>\n",
       "      <td>...</td>\n",
       "    </tr>\n",
       "    <tr>\n",
       "      <th>398</th>\n",
       "      <td>20230913220455745914</td>\n",
       "      <td>./frames/no fatiga/frame_20230913220455745914.jpg</td>\n",
       "      <td>0.182399</td>\n",
       "      <td>0.092648</td>\n",
       "      <td>[array([492, 473]), array([495, 501]), array([...</td>\n",
       "    </tr>\n",
       "    <tr>\n",
       "      <th>399</th>\n",
       "      <td>20230913220455892421</td>\n",
       "      <td>./frames/no fatiga/frame_20230913220455892421.jpg</td>\n",
       "      <td>0.207968</td>\n",
       "      <td>0.059496</td>\n",
       "      <td>[array([489, 479]), array([493, 508]), array([...</td>\n",
       "    </tr>\n",
       "    <tr>\n",
       "      <th>400</th>\n",
       "      <td>20230913220456011033</td>\n",
       "      <td>./frames/no fatiga/frame_20230913220456011033.jpg</td>\n",
       "      <td>0.228706</td>\n",
       "      <td>0.054321</td>\n",
       "      <td>[array([493, 477]), array([498, 507]), array([...</td>\n",
       "    </tr>\n",
       "    <tr>\n",
       "      <th>401</th>\n",
       "      <td>20230913220456140380</td>\n",
       "      <td>./frames/no fatiga/frame_20230913220456140380.jpg</td>\n",
       "      <td>0.211603</td>\n",
       "      <td>0.072619</td>\n",
       "      <td>[array([499, 476]), array([502, 506]), array([...</td>\n",
       "    </tr>\n",
       "    <tr>\n",
       "      <th>402</th>\n",
       "      <td>20230913220456243038</td>\n",
       "      <td>./frames/no fatiga/frame_20230913220456243038.jpg</td>\n",
       "      <td>0.235793</td>\n",
       "      <td>0.073960</td>\n",
       "      <td>[array([504, 486]), array([508, 514]), array([...</td>\n",
       "    </tr>\n",
       "  </tbody>\n",
       "</table>\n",
       "<p>403 rows × 5 columns</p>\n",
       "</div>"
      ],
      "text/plain": [
       "     20230913215706065744     ./frames/fatiga/frame_20230913215706065744.jpg  \\\n",
       "0    20230913215706306115     ./frames/fatiga/frame_20230913215706306115.jpg   \n",
       "1    20230913215706436138     ./frames/fatiga/frame_20230913215706436138.jpg   \n",
       "2    20230913215706570371     ./frames/fatiga/frame_20230913215706570371.jpg   \n",
       "3    20230913215706710969     ./frames/fatiga/frame_20230913215706710969.jpg   \n",
       "4    20230913215706868039     ./frames/fatiga/frame_20230913215706868039.jpg   \n",
       "..                    ...                                                ...   \n",
       "398  20230913220455745914  ./frames/no fatiga/frame_20230913220455745914.jpg   \n",
       "399  20230913220455892421  ./frames/no fatiga/frame_20230913220455892421.jpg   \n",
       "400  20230913220456011033  ./frames/no fatiga/frame_20230913220456011033.jpg   \n",
       "401  20230913220456140380  ./frames/no fatiga/frame_20230913220456140380.jpg   \n",
       "402  20230913220456243038  ./frames/no fatiga/frame_20230913220456243038.jpg   \n",
       "\n",
       "            0       0.1                                                 []  \n",
       "0    0.199979  0.172840  [array([523, 420]), array([525, 446]), array([...  \n",
       "1    0.202157  0.205173  [array([521, 413]), array([523, 438]), array([...  \n",
       "2    0.209099  0.199986  [array([519, 414]), array([521, 440]), array([...  \n",
       "3    0.193166  0.174407  [array([517, 415]), array([520, 442]), array([...  \n",
       "4    0.223245  0.222205  [array([520, 407]), array([523, 434]), array([...  \n",
       "..        ...       ...                                                ...  \n",
       "398  0.182399  0.092648  [array([492, 473]), array([495, 501]), array([...  \n",
       "399  0.207968  0.059496  [array([489, 479]), array([493, 508]), array([...  \n",
       "400  0.228706  0.054321  [array([493, 477]), array([498, 507]), array([...  \n",
       "401  0.211603  0.072619  [array([499, 476]), array([502, 506]), array([...  \n",
       "402  0.235793  0.073960  [array([504, 486]), array([508, 514]), array([...  \n",
       "\n",
       "[403 rows x 5 columns]"
      ]
     },
     "execution_count": 18,
     "metadata": {},
     "output_type": "execute_result"
    }
   ],
   "source": [
    "df.ren"
   ]
  },
  {
   "cell_type": "code",
   "execution_count": null,
   "metadata": {},
   "outputs": [],
   "source": [
    "df['category'] = df['path_img'].apply(lambda x: x.split('/')[2])\n",
    "df\n",
    "\n",
    "# cast ear and mar to float\n",
    "df['ear'] = df['ear'].astype(float)\n",
    "df['mar'] = df['mar'].astype(float)"
   ]
  },
  {
   "cell_type": "code",
   "execution_count": 13,
   "metadata": {},
   "outputs": [
    {
     "ename": "KeyError",
     "evalue": "'path_img'",
     "output_type": "error",
     "traceback": [
      "\u001b[0;31m---------------------------------------------------------------------------\u001b[0m",
      "\u001b[0;31mKeyError\u001b[0m                                  Traceback (most recent call last)",
      "File \u001b[0;32m~/.pyenv/versions/3.11.0/envs/PFE/lib/python3.11/site-packages/pandas/core/indexes/base.py:3790\u001b[0m, in \u001b[0;36mIndex.get_loc\u001b[0;34m(self, key)\u001b[0m\n\u001b[1;32m   3789\u001b[0m \u001b[39mtry\u001b[39;00m:\n\u001b[0;32m-> 3790\u001b[0m     \u001b[39mreturn\u001b[39;00m \u001b[39mself\u001b[39;49m\u001b[39m.\u001b[39;49m_engine\u001b[39m.\u001b[39;49mget_loc(casted_key)\n\u001b[1;32m   3791\u001b[0m \u001b[39mexcept\u001b[39;00m \u001b[39mKeyError\u001b[39;00m \u001b[39mas\u001b[39;00m err:\n",
      "File \u001b[0;32mindex.pyx:152\u001b[0m, in \u001b[0;36mpandas._libs.index.IndexEngine.get_loc\u001b[0;34m()\u001b[0m\n",
      "File \u001b[0;32mindex.pyx:181\u001b[0m, in \u001b[0;36mpandas._libs.index.IndexEngine.get_loc\u001b[0;34m()\u001b[0m\n",
      "File \u001b[0;32mpandas/_libs/hashtable_class_helper.pxi:7080\u001b[0m, in \u001b[0;36mpandas._libs.hashtable.PyObjectHashTable.get_item\u001b[0;34m()\u001b[0m\n",
      "File \u001b[0;32mpandas/_libs/hashtable_class_helper.pxi:7088\u001b[0m, in \u001b[0;36mpandas._libs.hashtable.PyObjectHashTable.get_item\u001b[0;34m()\u001b[0m\n",
      "\u001b[0;31mKeyError\u001b[0m: 'path_img'",
      "\nThe above exception was the direct cause of the following exception:\n",
      "\u001b[0;31mKeyError\u001b[0m                                  Traceback (most recent call last)",
      "Cell \u001b[0;32mIn[13], line 1\u001b[0m\n\u001b[0;32m----> 1\u001b[0m df[\u001b[39m'\u001b[39m\u001b[39mcategory\u001b[39m\u001b[39m'\u001b[39m] \u001b[39m=\u001b[39m df[\u001b[39m'\u001b[39;49m\u001b[39mpath_img\u001b[39;49m\u001b[39m'\u001b[39;49m]\u001b[39m.\u001b[39mapply(\u001b[39mlambda\u001b[39;00m x: x\u001b[39m.\u001b[39msplit(\u001b[39m'\u001b[39m\u001b[39m/\u001b[39m\u001b[39m'\u001b[39m)[\u001b[39m2\u001b[39m])\n\u001b[1;32m      2\u001b[0m df\n\u001b[1;32m      4\u001b[0m \u001b[39m# cast ear and mar to float\u001b[39;00m\n",
      "File \u001b[0;32m~/.pyenv/versions/3.11.0/envs/PFE/lib/python3.11/site-packages/pandas/core/frame.py:3896\u001b[0m, in \u001b[0;36mDataFrame.__getitem__\u001b[0;34m(self, key)\u001b[0m\n\u001b[1;32m   3894\u001b[0m \u001b[39mif\u001b[39;00m \u001b[39mself\u001b[39m\u001b[39m.\u001b[39mcolumns\u001b[39m.\u001b[39mnlevels \u001b[39m>\u001b[39m \u001b[39m1\u001b[39m:\n\u001b[1;32m   3895\u001b[0m     \u001b[39mreturn\u001b[39;00m \u001b[39mself\u001b[39m\u001b[39m.\u001b[39m_getitem_multilevel(key)\n\u001b[0;32m-> 3896\u001b[0m indexer \u001b[39m=\u001b[39m \u001b[39mself\u001b[39;49m\u001b[39m.\u001b[39;49mcolumns\u001b[39m.\u001b[39;49mget_loc(key)\n\u001b[1;32m   3897\u001b[0m \u001b[39mif\u001b[39;00m is_integer(indexer):\n\u001b[1;32m   3898\u001b[0m     indexer \u001b[39m=\u001b[39m [indexer]\n",
      "File \u001b[0;32m~/.pyenv/versions/3.11.0/envs/PFE/lib/python3.11/site-packages/pandas/core/indexes/base.py:3797\u001b[0m, in \u001b[0;36mIndex.get_loc\u001b[0;34m(self, key)\u001b[0m\n\u001b[1;32m   3792\u001b[0m     \u001b[39mif\u001b[39;00m \u001b[39misinstance\u001b[39m(casted_key, \u001b[39mslice\u001b[39m) \u001b[39mor\u001b[39;00m (\n\u001b[1;32m   3793\u001b[0m         \u001b[39misinstance\u001b[39m(casted_key, abc\u001b[39m.\u001b[39mIterable)\n\u001b[1;32m   3794\u001b[0m         \u001b[39mand\u001b[39;00m \u001b[39many\u001b[39m(\u001b[39misinstance\u001b[39m(x, \u001b[39mslice\u001b[39m) \u001b[39mfor\u001b[39;00m x \u001b[39min\u001b[39;00m casted_key)\n\u001b[1;32m   3795\u001b[0m     ):\n\u001b[1;32m   3796\u001b[0m         \u001b[39mraise\u001b[39;00m InvalidIndexError(key)\n\u001b[0;32m-> 3797\u001b[0m     \u001b[39mraise\u001b[39;00m \u001b[39mKeyError\u001b[39;00m(key) \u001b[39mfrom\u001b[39;00m \u001b[39merr\u001b[39;00m\n\u001b[1;32m   3798\u001b[0m \u001b[39mexcept\u001b[39;00m \u001b[39mTypeError\u001b[39;00m:\n\u001b[1;32m   3799\u001b[0m     \u001b[39m# If we have a listlike key, _check_indexing_error will raise\u001b[39;00m\n\u001b[1;32m   3800\u001b[0m     \u001b[39m#  InvalidIndexError. Otherwise we fall through and re-raise\u001b[39;00m\n\u001b[1;32m   3801\u001b[0m     \u001b[39m#  the TypeError.\u001b[39;00m\n\u001b[1;32m   3802\u001b[0m     \u001b[39mself\u001b[39m\u001b[39m.\u001b[39m_check_indexing_error(key)\n",
      "\u001b[0;31mKeyError\u001b[0m: 'path_img'"
     ]
    }
   ],
   "source": [
    "df['category'] = df['path_img'].apply(lambda x: x.split('/')[2])\n",
    "df\n",
    "\n",
    "# cast ear and mar to float\n",
    "df['ear'] = df['ear'].astype(float)\n",
    "df['mar'] = df['mar'].astype(float)"
   ]
  },
  {
   "cell_type": "code",
   "execution_count": null,
   "metadata": {},
   "outputs": [],
   "source": []
  }
 ],
 "metadata": {
  "kernelspec": {
   "display_name": "PFE",
   "language": "python",
   "name": "python3"
  },
  "language_info": {
   "codemirror_mode": {
    "name": "ipython",
    "version": 3
   },
   "file_extension": ".py",
   "mimetype": "text/x-python",
   "name": "python",
   "nbconvert_exporter": "python",
   "pygments_lexer": "ipython3",
   "version": "3.11.0"
  },
  "orig_nbformat": 4
 },
 "nbformat": 4,
 "nbformat_minor": 2
}
